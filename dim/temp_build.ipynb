{
 "cells": [
  {
   "cell_type": "markdown",
   "metadata": {},
   "source": [
    "this notebook builds coupling matrixes and bias vectors using new dmrf objects"
   ]
  },
  {
   "cell_type": "code",
   "execution_count": 7,
   "metadata": {},
   "outputs": [],
   "source": [
    "import numpy as np\n",
    "from matplotlib import pyplot as plt\n",
    "import pickle\n",
    "\n",
    "from utils import complementary\n",
    "import utils1"
   ]
  },
  {
   "cell_type": "code",
   "execution_count": 2,
   "metadata": {},
   "outputs": [],
   "source": [
    "seq = 'GCGACGGACGGACGGAGC'"
   ]
  },
  {
   "cell_type": "code",
   "execution_count": 1,
   "metadata": {},
   "outputs": [
    {
     "ename": "NameError",
     "evalue": "name 'pickle' is not defined",
     "output_type": "error",
     "traceback": [
      "\u001b[0;31m---------------------------------------------------------------------------\u001b[0m",
      "\u001b[0;31mNameError\u001b[0m                                 Traceback (most recent call last)",
      "Cell \u001b[0;32mIn[1], line 2\u001b[0m\n\u001b[1;32m      1\u001b[0m \u001b[38;5;28;01mwith\u001b[39;00m \u001b[38;5;28mopen\u001b[39m(\u001b[38;5;124m'\u001b[39m\u001b[38;5;124mgen_data/mod_dmrf_tetramer_20_1.dmrf\u001b[39m\u001b[38;5;124m'\u001b[39m, \u001b[38;5;124m'\u001b[39m\u001b[38;5;124mrb\u001b[39m\u001b[38;5;124m'\u001b[39m) \u001b[38;5;28;01mas\u001b[39;00m f:\n\u001b[0;32m----> 2\u001b[0m     dmrfs_tet \u001b[38;5;241m=\u001b[39m \u001b[43mpickle\u001b[49m\u001b[38;5;241m.\u001b[39mload(f)\n\u001b[1;32m      3\u001b[0m \u001b[38;5;66;03m# with open('gen_data/dmrf_3_20.dmrf', 'rb') as f:\u001b[39;00m\n\u001b[1;32m      4\u001b[0m \u001b[38;5;66;03m#     dmrfs_3 = pickle.load(f)\u001b[39;00m\n\u001b[1;32m      5\u001b[0m \u001b[38;5;66;03m# with open('gen_data/dmrf_5_20.dmrf', 'rb') as f:\u001b[39;00m\n\u001b[1;32m      6\u001b[0m \u001b[38;5;66;03m#     dmrfs_5 = pickle.load(f)\u001b[39;00m\n",
      "\u001b[0;31mNameError\u001b[0m: name 'pickle' is not defined"
     ]
    }
   ],
   "source": [
    "with open('gen_data/mod_dmrf_tetramer_20_1.dmrf', 'rb') as f:\n",
    "    dmrfs_tet = pickle.load(f)\n",
    "# with open('gen_data/dmrf_3_20.dmrf', 'rb') as f:\n",
    "#     dmrfs_3 = pickle.load(f)\n",
    "# with open('gen_data/dmrf_5_20.dmrf', 'rb') as f:\n",
    "#     dmrfs_5 = pickle.load(f)"
   ]
  },
  {
   "cell_type": "code",
   "execution_count": 5,
   "metadata": {},
   "outputs": [],
   "source": [
    "def check_(seq:str)->bool:\n",
    "    if len(seq)<4:\n",
    "        raise ValueError('The input sequence should be atleast 4 NA long.')\n",
    "    else:\n",
    "        seq = seq.upper()\n",
    "        for s in seq:\n",
    "            if s not in ['A','T','G','C']:\n",
    "                raise ValueError('The sequence contains invalid characters.')"
   ]
  },
  {
   "cell_type": "markdown",
   "metadata": {},
   "source": [
    "make another coupling matrix by removing one base from each side.\n",
    "this will give 2 coupling matrixes for single sequence. the second coupling matrix captures the interactions missed by the first coupling matrix.\n",
    "when looking at free energies, we could use both and get average value."
   ]
  },
  {
   "cell_type": "code",
   "execution_count": 6,
   "metadata": {},
   "outputs": [
    {
     "data": {
      "text/plain": [
       "<matplotlib.image.AxesImage at 0x12fab47f0>"
      ]
     },
     "execution_count": 6,
     "metadata": {},
     "output_type": "execute_result"
    },
    {
     "data": {
      "image/png": "[encoded data removed]",
      "text/plain": [
       "<Figure size 640x480 with 1 Axes>"
      ]
     },
     "metadata": {},
     "output_type": "display_data"
    }
   ],
   "source": [
    "# make sure the sequence length is dividable from 2\n",
    "seq = 'AGATGG'\n",
    "\n",
    "len_ = len(seq)*2\n",
    "seq = 'G'+seq+'G'\n",
    "\n",
    "bias = np.zeros((len_), dtype=float)\n",
    "for i in range(0,len(seq)-3, 2):\n",
    "    s = seq[i:i+4]\n",
    "    if s in dmrfs_tet.keys():\n",
    "        b = np.mean([i.get_subsystem_biases() for i in dmrfs_tet[s]], axis=0)\n",
    "    elif complementary(s) in dmrfs_tet.keys():\n",
    "        b = np.fliplr(np.flipud(np.mean([i.get_subsystem_biases() for i in dmrfs_tet[complementary(s)]], axis=0)))\n",
    "    \n",
    "    bias[i:i+2] = b[:2]\n",
    "    bias[-(2+i):len_-i] = b[2:]\n",
    "    \n",
    "\n",
    "# print(bias)\n",
    "plt.imshow(bias.reshape(-1,1))"
   ]
  },
  {
   "cell_type": "code",
   "execution_count": 7,
   "metadata": {},
   "outputs": [
    {
     "data": {
      "text/plain": [
       "<matplotlib.image.AxesImage at 0x12fb03fd0>"
      ]
     },
     "execution_count": 7,
     "metadata": {},
     "output_type": "execute_result"
    },
    {
     "data": {
      "image/png": "[encoded data removed]",
      "text/plain": [
       "<Figure size 640x480 with 1 Axes>"
      ]
     },
     "metadata": {},
     "output_type": "display_data"
    }
   ],
   "source": [
    "# make sure the sequence length is dividable from 2\n",
    "seq = 'AGATGG'\n",
    "\n",
    "len_ = len(seq)*2\n",
    "seq = 'G'+seq+'G'\n",
    "\n",
    "copuling = np.zeros((len_,len_), dtype=float)\n",
    "for i in range(0,len(seq)-3, 2):\n",
    "    s = seq[i:i+4]\n",
    "    if s in dmrfs_tet.keys():\n",
    "        c = np.mean([i.get_subsystem_couplings() for i in dmrfs_tet[s]], axis=0)\n",
    "    elif complementary(s) in dmrfs_tet.keys():\n",
    "        c = np.fliplr(np.flipud(np.mean([i.get_subsystem_couplings() for i in dmrfs_tet[complementary(s)]], axis=0)))\n",
    "    \n",
    "    copuling[i:i+2,i:i+2] = c[:2,:2]\n",
    "    copuling[-(2+i):len_-i, -(2+i):len_-i] = c[2:,2:]\n",
    "    copuling[i:i+2, len_-(2+i):len_-i] = c[:2,2:]\n",
    "    copuling[len_-(2+i):len_-i, i:i+2] = c[2:,:2]\n",
    "    \n",
    "\n",
    "# print(copuling)\n",
    "plt.imshow(copuling)"
   ]
  },
  {
   "cell_type": "code",
   "execution_count": 8,
   "metadata": {},
   "outputs": [],
   "source": [
    "from dimgen import dim"
   ]
  },
  {
   "cell_type": "code",
   "execution_count": 10,
   "metadata": {},
   "outputs": [
    {
     "name": "stdout",
     "output_type": "stream",
     "text": [
      "73.65264037641941\n",
      "75.52398590903556\n",
      "72.06649987426243\n",
      "58.35170222784281\n",
      "67.77696737266324\n"
     ]
    }
   ],
   "source": [
    "with open('gen_data/mod_dmrf_tetramer_20_1.dmrf', 'rb') as f:\n",
    "    dmrfs_tet = pickle.load(f)\n",
    "x = dim('TCCCCTCTCCGT',dmrfs_tet)\n",
    "x.get_free_energy().sum()\n",
    "list_ = ['AAAA','AAAC','AAAT','AGAG','AGCG']\n",
    "for i in list_:\n",
    "    seq = 'GC'+i[:2]+i*3+'GC'\n",
    "    print(dim(seq,dmrfs_tet).get_free_energy().sum())"
   ]
  },
  {
   "cell_type": "code",
   "execution_count": 11,
   "metadata": {},
   "outputs": [
    {
     "name": "stdout",
     "output_type": "stream",
     "text": [
      "73.591772712806\n",
      "75.46906085373004\n",
      "72.02044785121453\n",
      "58.30057948271881\n",
      "67.72631357324653\n"
     ]
    }
   ],
   "source": [
    "with open('gen_data/mod_dmrf_tetramer_50_1.dmrf', 'rb') as f:\n",
    "    dmrfs_tet = pickle.load(f)\n",
    "x = dim('TCCCCTCTCCGT',dmrfs_tet)\n",
    "x.get_free_energy().sum()\n",
    "list_ = ['AAAA','AAAC','AAAT','AGAG','AGCG']\n",
    "for i in list_:\n",
    "    seq = 'GC'+i[:2]+i*3+'GC'\n",
    "    print(dim(seq,dmrfs_tet).get_free_energy().sum())"
   ]
  },
  {
   "cell_type": "code",
   "execution_count": 12,
   "metadata": {},
   "outputs": [
    {
     "name": "stdout",
     "output_type": "stream",
     "text": [
      "73.60610123550231\n",
      "75.4499486327007\n",
      "71.98384080856844\n",
      "58.202945833431755\n",
      "67.63146574471308\n"
     ]
    }
   ],
   "source": [
    "with open('gen_data/mod_dmrf_tetramer_100_1.dmrf', 'rb') as f:\n",
    "    dmrfs_tet = pickle.load(f)\n",
    "x = dim('TCCCCTCTCCGT',dmrfs_tet)\n",
    "x.get_free_energy().sum()\n",
    "list_ = ['AAAA','AAAC','AAAT','AGAG','AGCG']\n",
    "for i in list_:\n",
    "    seq = 'GC'+i[:2]+i*3+'GC'\n",
    "    print(dim(seq,dmrfs_tet).get_free_energy().sum())"
   ]
  },
  {
   "cell_type": "code",
   "execution_count": 15,
   "metadata": {},
   "outputs": [
    {
     "name": "stdout",
     "output_type": "stream",
     "text": [
      "1\n",
      ".......\n",
      "74.0082717723778\n",
      "75.53335705048283\n",
      "72.06729343469058\n",
      "58.80349735239365\n",
      "67.64758224189298\n",
      ".......\n",
      "2\n",
      ".......\n",
      "74.00798745750085\n",
      "75.53282090839984\n",
      "72.06701999690254\n",
      "58.803101271411904\n",
      "67.64717685874699\n",
      ".......\n",
      "3\n",
      ".......\n",
      "74.00420398426053\n",
      "75.52485648545563\n",
      "72.06254499289568\n",
      "58.79755382136121\n",
      "67.637865180481\n",
      ".......\n",
      "4\n",
      ".......\n",
      "73.94210101915723\n",
      "75.4671054826531\n",
      "72.01794457546097\n",
      "58.74723926358839\n",
      "67.53934476321947\n",
      ".......\n",
      "5\n",
      ".......\n",
      "74.00811097154983\n",
      "75.58566619884814\n",
      "72.02233741419806\n",
      "58.8875493421071\n",
      "67.92052313376561\n",
      ".......\n"
     ]
    }
   ],
   "source": [
    "for j in range(5):\n",
    "    with open(f'gen_data/dmrf_tetramer_20_{int(j+1)}.dmrf', 'rb') as f:\n",
    "        dmrfs_tet = pickle.load(f)\n",
    "    x = dim('TCCCCTCTCCGT',dmrfs_tet)\n",
    "    x.get_free_energy().sum()\n",
    "    list_ = ['AAAA','AAAC','AAAT','AGAG','AGCG']\n",
    "    print(f'{int(j+1)}\\n.......')\n",
    "    for i in list_:\n",
    "        seq = 'GC'+i[:2]+i*3+'GC'\n",
    "        print(dim(seq,dmrfs_tet).get_free_energy().sum())\n",
    "    print('.......')"
   ]
  },
  {
   "cell_type": "code",
   "execution_count": null,
   "metadata": {},
   "outputs": [],
   "source": []
  }
 ],
 "metadata": {
  "kernelspec": {
   "display_name": "p2",
   "language": "python",
   "name": "python3"
  },
  "language_info": {
   "codemirror_mode": {
    "name": "ipython",
    "version": 3
   },
   "file_extension": ".py",
   "mimetype": "text/x-python",
   "name": "python",
   "nbconvert_exporter": "python",
   "pygments_lexer": "ipython3",
   "version": "3.10.14"
  }
 },
 "nbformat": 4,
 "nbformat_minor": 2
}
